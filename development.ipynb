{
 "cells": [
  {
   "cell_type": "code",
   "execution_count": 108,
   "metadata": {},
   "outputs": [
    {
     "name": "stdout",
     "output_type": "stream",
     "text": [
      "                                                text\n",
      "0  Lorem ipsum dolor sit amet, consectetur adipis...\n",
      "1  Pellentesque habitant morbi tristique senectus...\n",
      "2  Quisque suscipit elit nec convallis ullamcorpe...\n",
      "3  Lorem ipsum dolor sit amet, çonsectetur adipis...\n",
      "4  Pellentesque habitant morbi tristique senectus...\n"
     ]
    }
   ],
   "source": [
    "from text_analyzer.file_manager import FileManager\n",
    "from collections import Counter\n",
    "import json\n",
    "\n",
    "\n",
    "class Analyzer:\n",
    "\n",
    "    def __init__(self, data):\n",
    "        self.data = data\n",
    "        self.char_number = self.calculate_char_number()\n",
    "        self.word_number = self.calculate_word_number()\n",
    "        self.non_alpha_chars = self.count_non_alpha_chars()\n",
    "\n",
    "    def calculate_char_number(self):\n",
    "        \"\"\"calculate number of chars for each doc. Return min, max, mean values as dict\"\"\"\n",
    "        self.data['n_char'] = self.data['text'].apply(lambda x: len(x))\n",
    "        return self.data['n_char'].agg(['min', 'mean', 'max']).to_dict()\n",
    "    \n",
    "    def calculate_word_number(self):\n",
    "        \"\"\"calculate number of words for each doc. Return min, max, mean values as dict\"\"\"\n",
    "        self.data['n_word'] = self.data['text'].apply(lambda x: len(x.split()))\n",
    "        return self.data['n_word'].agg(['min', 'mean', 'max']).to_dict()\n",
    "    \n",
    "    def count_non_alpha_chars(self):\n",
    "        non_alpha_chars = Counter()\n",
    "        total_non_alpha_count = 0\n",
    "        \n",
    "        for text in self.data['text']:\n",
    "            non_alpha = [char for char in text if not char.isalpha() and not char.isspace()]\n",
    "            non_alpha_chars.update(non_alpha)\n",
    "            total_non_alpha_count += len(non_alpha)\n",
    "        \n",
    "        return {\"10_most_common_with_freq\": dict(non_alpha_chars.most_common(10)),\n",
    "                \"total_non_alpha_count\": total_non_alpha_count}\n",
    "    \n",
    "    def get_simple_stats(self):\n",
    "\n",
    "        n_char_data = self.calculate_char_number()\n",
    "        n_word_data = self.calculate_word_number()\n",
    "        non_alpha_data = self.count_non_alpha_chars()\n",
    "\n",
    "        #TODO ways to get number for ï like letters.\n",
    "        #TODO: # of links\n",
    "        #TODO: # of phone numbers\n",
    "    \n",
    "    def print_stats(self, pretty=True):\n",
    "        analyzer_dict = self.__dict__.copy()\n",
    "        analyzer_dict.pop('data')\n",
    "        \n",
    "        res = json.dumps(analyzer_dict, indent=4 if pretty else None)\n",
    "        print(res)\n",
    "        \n",
    "    def to_json(self, output_name):\n",
    "        analyzer_dict = self.__dict__.copy()\n",
    "        analyzer_dict.pop('data')\n",
    "        \n",
    "        if not output_name.endswith('.json'):\n",
    "            output_name+='.json'\n",
    "        \n",
    "        with open(output_name, 'w', encoding='utf-8') as f:\n",
    "            json.dump(analyzer_dict, f, indent=4, ensure_ascii=False)\n",
    "        \n",
    "\n",
    "\n",
    "fm = FileManager()\n",
    "data = fm.read_txt('/Users/fatih/Desktop/val.txt')\n",
    "print(data.head())"
   ]
  },
  {
   "cell_type": "code",
   "execution_count": 22,
   "metadata": {},
   "outputs": [
    {
     "data": {
      "text/html": [
       "<div>\n",
       "<style scoped>\n",
       "    .dataframe tbody tr th:only-of-type {\n",
       "        vertical-align: middle;\n",
       "    }\n",
       "\n",
       "    .dataframe tbody tr th {\n",
       "        vertical-align: top;\n",
       "    }\n",
       "\n",
       "    .dataframe thead th {\n",
       "        text-align: right;\n",
       "    }\n",
       "</style>\n",
       "<table border=\"1\" class=\"dataframe\">\n",
       "  <thead>\n",
       "    <tr style=\"text-align: right;\">\n",
       "      <th></th>\n",
       "      <th>text</th>\n",
       "      <th>n_words</th>\n",
       "    </tr>\n",
       "  </thead>\n",
       "  <tbody>\n",
       "    <tr>\n",
       "      <th>0</th>\n",
       "      <td>Lorem ipsum dolor sit amet, consectetur adipis...</td>\n",
       "      <td>568</td>\n",
       "    </tr>\n",
       "    <tr>\n",
       "      <th>1</th>\n",
       "      <td>Pellentesque habitant morbi tristique senectus...</td>\n",
       "      <td>484</td>\n",
       "    </tr>\n",
       "    <tr>\n",
       "      <th>2</th>\n",
       "      <td>Quisque suscipit elit nec convallis ullamcorpe...</td>\n",
       "      <td>390</td>\n",
       "    </tr>\n",
       "    <tr>\n",
       "      <th>3</th>\n",
       "      <td>Lorem ipsum dolor sit amet, çonsectetur adipis...</td>\n",
       "      <td>568</td>\n",
       "    </tr>\n",
       "    <tr>\n",
       "      <th>4</th>\n",
       "      <td>Pellentesque habitant morbi tristique senectus...</td>\n",
       "      <td>484</td>\n",
       "    </tr>\n",
       "    <tr>\n",
       "      <th>5</th>\n",
       "      <td>Quisque suscipit elit nec convallis ullamcorpe...</td>\n",
       "      <td>414</td>\n",
       "    </tr>\n",
       "    <tr>\n",
       "      <th>6</th>\n",
       "      <td>Amet, consectetur adipiscing +1 (555) 123-4567...</td>\n",
       "      <td>610</td>\n",
       "    </tr>\n",
       "    <tr>\n",
       "      <th>7</th>\n",
       "      <td>Nam eget orci in ipsum interdum tristique at v...</td>\n",
       "      <td>544</td>\n",
       "    </tr>\n",
       "  </tbody>\n",
       "</table>\n",
       "</div>"
      ],
      "text/plain": [
       "                                                text  n_words\n",
       "0  Lorem ipsum dolor sit amet, consectetur adipis...      568\n",
       "1  Pellentesque habitant morbi tristique senectus...      484\n",
       "2  Quisque suscipit elit nec convallis ullamcorpe...      390\n",
       "3  Lorem ipsum dolor sit amet, çonsectetur adipis...      568\n",
       "4  Pellentesque habitant morbi tristique senectus...      484\n",
       "5  Quisque suscipit elit nec convallis ullamcorpe...      414\n",
       "6  Amet, consectetur adipiscing +1 (555) 123-4567...      610\n",
       "7  Nam eget orci in ipsum interdum tristique at v...      544"
      ]
     },
     "execution_count": 22,
     "metadata": {},
     "output_type": "execute_result"
    }
   ],
   "source": [
    "data['n_words'] = data['text'].apply(lambda x: len(x))\n",
    "data"
   ]
  },
  {
   "cell_type": "code",
   "execution_count": 71,
   "metadata": {},
   "outputs": [
    {
     "ename": "AttributeError",
     "evalue": "'Analyzer' object has no attribute 'count_non_ascii_chars'",
     "output_type": "error",
     "traceback": [
      "\u001b[0;31m---------------------------------------------------------------------------\u001b[0m",
      "\u001b[0;31mAttributeError\u001b[0m                            Traceback (most recent call last)",
      "\u001b[1;32m/Users/fatih/Desktop/Projects/text_analyzer/development.ipynb Cell 3\u001b[0m line \u001b[0;36m3\n\u001b[1;32m      <a href='vscode-notebook-cell:/Users/fatih/Desktop/Projects/text_analyzer/development.ipynb#X14sZmlsZQ%3D%3D?line=0'>1</a>\u001b[0m anlyz \u001b[39m=\u001b[39m Analyzer(data)\n\u001b[1;32m      <a href='vscode-notebook-cell:/Users/fatih/Desktop/Projects/text_analyzer/development.ipynb#X14sZmlsZQ%3D%3D?line=1'>2</a>\u001b[0m \u001b[39m# anlyz.data.apply(anlyz.calculate_simple_stats, axis=1)\u001b[39;00m\n\u001b[0;32m----> <a href='vscode-notebook-cell:/Users/fatih/Desktop/Projects/text_analyzer/development.ipynb#X14sZmlsZQ%3D%3D?line=2'>3</a>\u001b[0m anlyz\u001b[39m.\u001b[39;49mcount_non_ascii_chars()\n",
      "\u001b[0;31mAttributeError\u001b[0m: 'Analyzer' object has no attribute 'count_non_ascii_chars'"
     ]
    }
   ],
   "source": [
    "anlyz = Analyzer(data)\n",
    "# anlyz.data.apply(anlyz.calculate_simple_stats, axis=1)\n",
    "# anlyz.count_non_ascii_chars()"
   ]
  },
  {
   "cell_type": "code",
   "execution_count": 109,
   "metadata": {},
   "outputs": [
    {
     "name": "stdout",
     "output_type": "stream",
     "text": [
      "{\n",
      "    \"char_number\": {\n",
      "        \"min\": 390.0,\n",
      "        \"mean\": 507.75,\n",
      "        \"max\": 610.0\n",
      "    },\n",
      "    \"word_number\": {\n",
      "        \"min\": 58.0,\n",
      "        \"mean\": 74.25,\n",
      "        \"max\": 91.0\n",
      "    },\n",
      "    \"non_alpha_chars\": {\n",
      "        \"10_most_common_with_freq\": {\n",
      "            \".\": 83,\n",
      "            \",\": 38,\n",
      "            \"5\": 4,\n",
      "            \"/\": 2,\n",
      "            \"1\": 2,\n",
      "            \":\": 1,\n",
      "            \"+\": 1,\n",
      "            \"(\": 1,\n",
      "            \")\": 1,\n",
      "            \"2\": 1\n",
      "        },\n",
      "        \"total_non_alpha_count\": 139\n",
      "    }\n",
      "}\n"
     ]
    }
   ],
   "source": [
    "anlyz = Analyzer(data)\n",
    "anlyz.print_stats()"
   ]
  },
  {
   "cell_type": "code",
   "execution_count": 110,
   "metadata": {},
   "outputs": [],
   "source": [
    "anlyz.to_json('testing')"
   ]
  },
  {
   "cell_type": "code",
   "execution_count": null,
   "metadata": {},
   "outputs": [],
   "source": []
  }
 ],
 "metadata": {
  "kernelspec": {
   "display_name": "env",
   "language": "python",
   "name": "python3"
  },
  "language_info": {
   "codemirror_mode": {
    "name": "ipython",
    "version": 3
   },
   "file_extension": ".py",
   "mimetype": "text/x-python",
   "name": "python",
   "nbconvert_exporter": "python",
   "pygments_lexer": "ipython3",
   "version": "3.10.11"
  }
 },
 "nbformat": 4,
 "nbformat_minor": 2
}
